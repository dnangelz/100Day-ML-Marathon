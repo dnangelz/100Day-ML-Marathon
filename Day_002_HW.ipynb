{
 "cells": [
  {
   "cell_type": "code",
   "execution_count": 1,
   "metadata": {},
   "outputs": [
    {
     "ename": "SyntaxError",
     "evalue": "invalid syntax (<ipython-input-1-e2ccc2936093>, line 1)",
     "output_type": "error",
     "traceback": [
      "\u001b[1;36m  File \u001b[1;32m\"<ipython-input-1-e2ccc2936093>\"\u001b[1;36m, line \u001b[1;32m1\u001b[0m\n\u001b[1;33m    請找出一個你認為機器學習可以發光發熱的領域並闡述原因?\u001b[0m\n\u001b[1;37m                              ^\u001b[0m\n\u001b[1;31mSyntaxError\u001b[0m\u001b[1;31m:\u001b[0m invalid syntax\n"
     ]
    }
   ],
   "source": [
    "請找出一個你認為機器學習可以發光發熱的領域並闡述原因?"
   ]
  },
  {
   "cell_type": "code",
   "execution_count": null,
   "metadata": {},
   "outputs": [],
   "source": [
    "我認為應該還是在聊天的方面吧，之前就有人把新生的ＡＩ拿給整個網路的人做調教，雖然結果不太理想，不過我認為一個優秀的聊天機器人能在長照以及各種醫療上提供許多的幫助"
   ]
  }
 ],
 "metadata": {
  "kernelspec": {
   "display_name": "Python 3",
   "language": "python",
   "name": "python3"
  },
  "language_info": {
   "codemirror_mode": {
    "name": "ipython",
    "version": 3
   },
   "file_extension": ".py",
   "mimetype": "text/x-python",
   "name": "python",
   "nbconvert_exporter": "python",
   "pygments_lexer": "ipython3",
   "version": "3.6.5"
  }
 },
 "nbformat": 4,
 "nbformat_minor": 2
}
