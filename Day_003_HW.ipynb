{
 "cells": [
  {
   "cell_type": "code",
   "execution_count": 1,
   "metadata": {},
   "outputs": [
    {
     "ename": "SyntaxError",
     "evalue": "invalid syntax (<ipython-input-1-57409fb5a6db>, line 1)",
     "output_type": "error",
     "traceback": [
      "\u001b[1;36m  File \u001b[1;32m\"<ipython-input-1-57409fb5a6db>\"\u001b[1;36m, line \u001b[1;32m1\u001b[0m\n\u001b[1;33m    文章名稱:斩获国际语音合成大赛亚军、与科大讯飞同台竞艳，深声科技到底是家怎样的公司？\u001b[0m\n\u001b[1;37m        ^\u001b[0m\n\u001b[1;31mSyntaxError\u001b[0m\u001b[1;31m:\u001b[0m invalid syntax\n"
     ]
    }
   ],
   "source": [
    "文章名稱:斩获国际语音合成大赛亚军、与科大讯飞同台竞艳，深声科技到底是家怎样的公司？ "
   ]
  },
  {
   "cell_type": "code",
   "execution_count": null,
   "metadata": {},
   "outputs": [],
   "source": [
    "作業1:目標 藉由罗振宇脱口秀风格声音作为合成样本蘭進行各種文體的聲音合成\n",
    "作業 2：方法 声音定制、语音分离、语音合成、智能语音降噪、音频处理算法、语音识别和语音转换\n",
    "\n",
    "作業 3：資料來源  雷鋒網    "
   ]
  }
 ],
 "metadata": {
  "kernelspec": {
   "display_name": "Python 3",
   "language": "python",
   "name": "python3"
  },
  "language_info": {
   "codemirror_mode": {
    "name": "ipython",
    "version": 3
   },
   "file_extension": ".py",
   "mimetype": "text/x-python",
   "name": "python",
   "nbconvert_exporter": "python",
   "pygments_lexer": "ipython3",
   "version": "3.5.5"
  }
 },
 "nbformat": 4,
 "nbformat_minor": 2
}
